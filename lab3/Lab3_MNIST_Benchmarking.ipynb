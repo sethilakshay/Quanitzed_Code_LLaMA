{
 "cells": [
  {
   "cell_type": "markdown",
   "metadata": {},
   "source": [
    "# Lab 3: Quantitized Model Benchmarking Efficiency in Feed-Forward Neural Networks.\n",
    "\n",
    "**Team Cyclops**\n"
   ]
  },
  {
   "cell_type": "code",
   "execution_count": 1,
   "metadata": {},
   "outputs": [
    {
     "name": "stdout",
     "output_type": "stream",
     "text": [
      "Device:  cpu\n"
     ]
    }
   ],
   "source": [
    "# Below is the code for building the network\n",
    "\n",
    "import torch\n",
    "import csv\n",
    "import matplotlib.pyplot as plt\n",
    "import pandas as pd\n",
    "import numpy as np\n",
    "import time\n",
    "import torchvision\n",
    "from PIL import Image\n",
    "import os\n",
    "\n",
    "device = 'cuda' if torch.cuda.is_available() else 'cpu'\n",
    "print(\"Device: \", device)\n",
    "\n",
    "trainPath = \"./MNIST/mnist_train.csv\"\n",
    "testPath = \"./MNIST/mnist_test.csv\""
   ]
  },
  {
   "cell_type": "code",
   "execution_count": 2,
   "metadata": {},
   "outputs": [
    {
     "data": {
      "image/png": "[encoded data removed]",
      "text/plain": [
       "<Figure size 800x800 with 4 Axes>"
      ]
     },
     "metadata": {},
     "output_type": "display_data"
    }
   ],
   "source": [
    "# Define Dataloader\n",
    "class MNISTDataset(torch.utils.data.Dataset):\n",
    "\n",
    "    def __init__(self, fileName: str, transform = None):\n",
    "        self.X_Data, self.Y_Data = [], []\n",
    "\n",
    "        with open(fileName, mode = 'r') as f:\n",
    "\n",
    "            csvreader = csv.reader(f)\n",
    "\n",
    "            for line in csvreader:\n",
    "                row = list(map(int, line))\n",
    "\n",
    "                pixels = row[1:]\n",
    "                label = row[0]\n",
    "\n",
    "                pixels = (pixels - np.mean(pixels, axis = 0))/np.std(pixels, axis = 0)\n",
    "\n",
    "                self.X_Data.append(pixels)\n",
    "                self.Y_Data.append(label)\n",
    "\n",
    "        self.transform = transform\n",
    "        self.length = len(self.Y_Data)\n",
    "\n",
    "    def __len__(self):\n",
    "        return self.length\n",
    "\n",
    "    def __getitem__(self, idx):\n",
    "\n",
    "        X_tensor = torch.FloatTensor(self.X_Data[idx])\n",
    "        Y_tensor = torch.tensor(self.Y_Data[idx])\n",
    "\n",
    "        if self.transform:\n",
    "            X_tensor = self.transform(X_tensor)\n",
    "\n",
    "        return X_tensor, Y_tensor\n",
    "    \n",
    "\n",
    "\n",
    "trainMNIST  = MNISTDataset(trainPath, None)\n",
    "testMNIST = MNISTDataset(testPath, None)\n",
    "\n",
    "train_loader_temp = torch.utils.data.DataLoader(\n",
    "    dataset = trainMNIST,\n",
    "    batch_size = 64,\n",
    "    shuffle = True\n",
    ")\n",
    "\n",
    "test_loader_temp = torch.utils.data.DataLoader(\n",
    "    dataset = testMNIST,\n",
    "    batch_size = 64,\n",
    "    shuffle = True\n",
    ")\n",
    "\n",
    "\n",
    "r, c = [2, 2]\n",
    "fig, ax = plt.subplots(r, c, figsize= (8, 8))\n",
    "\n",
    "k = 0\n",
    "\n",
    "for data in train_loader_temp:\n",
    "    x, y = data\n",
    "    \n",
    "    for i in range(r):\n",
    "        for j in range(c):\n",
    "            img = x[k].numpy().reshape(28, 28)\n",
    "            ax[i, j].imshow(img)\n",
    "            ax[i, j].axis('off')\n",
    "            k += 1\n",
    "\n",
    "    break\n",
    "\n",
    "del train_loader_temp, test_loader_temp"
   ]
  },
  {
   "cell_type": "code",
   "execution_count": 3,
   "metadata": {},
   "outputs": [],
   "source": [
    "def trainLoop(inputModel, inputOptimizer, inputCriterion, dataloader, num_epochs = 2):\n",
    "\n",
    "    startTime = time.time()\n",
    "\n",
    "    # Looping over the epochs\n",
    "    for epoch in range(num_epochs):\n",
    "\n",
    "        # Putting the model in training loop\n",
    "        inputModel.train()\n",
    "\n",
    "        runningLoss = 0\n",
    "\n",
    "        for pixels, labels in dataloader:\n",
    "\n",
    "            # Zeroing the gradients\n",
    "            inputOptimizer.zero_grad()\n",
    "\n",
    "            # Forward Pass\n",
    "            outputs = inputModel(pixels)\n",
    "            loss = inputCriterion(outputs, labels)\n",
    "\n",
    "            # Backprop\n",
    "            loss.backward()\n",
    "            inputOptimizer.step()\n",
    "\n",
    "            runningLoss += loss.item()\n",
    "\n",
    "        epochLoss = runningLoss/len(dataloader)\n",
    "        # print(f'Epoch [{epoch+1}/{num_epochs}] Loss: {epochLoss:.4f}')\n",
    "    endTime = time.time()\n",
    "    return (endTime - startTime)/num_epochs\n",
    "\n",
    "\n",
    "def testLoop(inputModel, dataloader, batch_size):\n",
    "\n",
    "    startTime = time.time()\n",
    "\n",
    "    correct_predictions = 0\n",
    "    total_predicitions = 0\n",
    "\n",
    "    # Putting the model in evaluation mode\n",
    "    inputModel.eval()\n",
    "\n",
    "    # Ensuring no gradients are calculated\n",
    "    with torch.no_grad():\n",
    "        for pixels, numbers in dataloader:\n",
    "            \n",
    "            # Forward Pass\n",
    "            outputs = inputModel(pixels)\n",
    "\n",
    "            # Inference \n",
    "            correct_predictions += torch.sum(torch.argmax(outputs, dim = 1) == numbers).item()\n",
    "            total_predicitions += len(numbers)\n",
    "\n",
    "\n",
    "    accuracy = 100 * correct_predictions/total_predicitions\n",
    "    endTime = time.time()\n",
    "    return accuracy, (endTime - startTime)/(len(dataloader)*batch_size)\n",
    "\n",
    "\n",
    "\n",
    "# Computing the Parameters in the model\n",
    "def getParams(inputModel):\n",
    "    \n",
    "    model_size = 0\n",
    "    for f in inputModel.parameters():\n",
    "        if f.requires_grad:\n",
    "\n",
    "            model_size += f.numel()\n",
    "\n",
    "    return model_size\n",
    "\n",
    "# Computing FLOPS\n",
    "def getFLOPS(inputModel):\n",
    "\n",
    "    flops = 0\n",
    "\n",
    "    for f in inputModel.parameters():\n",
    "        if f.requires_grad:\n",
    "\n",
    "            if f.ndim == 1:\n",
    "                flops += 2*f.shape[0]\n",
    "            else:\n",
    "                flops += 2*f.shape[0]*f.shape[1]\n",
    "\n",
    "    return flops\n",
    "\n",
    "def print_size_of_model(model, label=\"\"):\n",
    "    torch.save(model.state_dict(), \"temp.p\")\n",
    "    size=os.path.getsize(\"temp.p\")\n",
    "    print(\"model: \",label,' \\t','Size (MB):', size/1e6)\n",
    "    os.remove('temp.p')\n",
    "    return size"
   ]
  },
  {
   "cell_type": "code",
   "execution_count": 4,
   "metadata": {},
   "outputs": [],
   "source": [
    "train_loader = torch.utils.data.DataLoader(\n",
    "    dataset = trainMNIST,\n",
    "    batch_size = 64,\n",
    "    shuffle = True\n",
    ")\n",
    "\n",
    "test_loader_1 = torch.utils.data.DataLoader(\n",
    "    dataset = testMNIST,\n",
    "    batch_size = 1,\n",
    "    shuffle = True\n",
    ")\n",
    "\n",
    "test_loader_64 = torch.utils.data.DataLoader(\n",
    "    dataset = testMNIST,\n",
    "    batch_size = 64,\n",
    "    shuffle = True\n",
    ")\n",
    "\n",
    "# BaseLine Model\n",
    "class BaselineMLP(torch.nn.Module):\n",
    "\n",
    "    def __init__(self, input_size = 784, output_size = 10, hidden_size = 1024):\n",
    "\n",
    "        super(BaselineMLP, self).__init__()\n",
    "\n",
    "        self.model = torch.nn.Sequential(\n",
    "            torch.nn.Linear(input_size, hidden_size),\n",
    "            torch.nn.ReLU(),\n",
    "\n",
    "            torch.nn.Linear(hidden_size, hidden_size),\n",
    "            torch.nn.ReLU(),\n",
    "\n",
    "            torch.nn.Linear(hidden_size, output_size)\n",
    "        )\n",
    "\n",
    "    def forward(self, x):\n",
    "\n",
    "        out = self.model(x)\n",
    "        return out"
   ]
  },
  {
   "cell_type": "markdown",
   "metadata": {},
   "source": [
    "# Model Training"
   ]
  },
  {
   "cell_type": "code",
   "execution_count": 5,
   "metadata": {},
   "outputs": [
    {
     "name": "stdout",
     "output_type": "stream",
     "text": [
      "Training time per epoch:  7.873818516731262\n",
      "Model precision: fp32\n",
      "model:    \t Size (MB): 7.456639\n",
      "Number of parameters: 1863690\n"
     ]
    }
   ],
   "source": [
    "baseline_model  = BaselineMLP(input_size = 784, output_size = 10, hidden_size = 1024).to(device)\n",
    "baseline_criterion = torch.nn.CrossEntropyLoss()\n",
    "baseline_optimizer = torch.optim.Adam(baseline_model.parameters(), lr = 0.001)\n",
    "\n",
    "predTime = trainLoop(inputModel = baseline_model, inputOptimizer = baseline_optimizer, inputCriterion = baseline_criterion, dataloader = train_loader, num_epochs = 2)\n",
    "print(\"Training time per epoch: \", predTime)\n",
    "\n",
    "print(\"Model precision: fp32\")\n",
    "model_size_storgae = print_size_of_model(baseline_model)\n",
    "\n",
    "model_size_params = getParams(baseline_model)\n",
    "print(\"Number of parameters: {}\".format(model_size_params))"
   ]
  },
  {
   "cell_type": "markdown",
   "metadata": {},
   "source": [
    "### Batch Size 1"
   ]
  },
  {
   "cell_type": "code",
   "execution_count": 6,
   "metadata": {},
   "outputs": [
    {
     "name": "stdout",
     "output_type": "stream",
     "text": [
      "\n",
      "Run- 1\n",
      "Inference Time:  0.00014962770938873292\n",
      "Testing Accuracy:  97.37\n",
      "\n",
      "Run- 2\n",
      "Inference Time:  0.00012966232299804688\n",
      "Testing Accuracy:  97.37\n",
      "\n",
      "Run- 3\n",
      "Inference Time:  0.0001537252902984619\n",
      "Testing Accuracy:  97.37\n",
      "\n",
      "Run- 4\n",
      "Inference Time:  0.00012429850101470946\n",
      "Testing Accuracy:  97.37\n",
      "\n",
      "Run- 5\n",
      "Inference Time:  0.0001420781135559082\n",
      "Testing Accuracy:  97.37\n",
      "\n",
      "\n",
      "Average Accuracy: 97.37\n",
      "Average Inference Time: 0.00013987838745117186\n",
      "Std Inference Time: 1.1302438904270402e-05\n"
     ]
    }
   ],
   "source": [
    "# Batch Size 1 experiments\n",
    "all_accuracies_1, all_inference_1 = [], []\n",
    "for i in range(5):\n",
    "    print(\"\\nRun-\", (i + 1))\n",
    "    baselineAcc, baselineInf = testLoop(inputModel = baseline_model, dataloader = test_loader_1, batch_size = 1)\n",
    "\n",
    "    all_accuracies_1.append(baselineAcc)\n",
    "    all_inference_1.append(baselineInf)\n",
    "    \n",
    "    print(\"Inference Time: \", baselineInf)\n",
    "    print(\"Testing Accuracy: \", baselineAcc)\n",
    "\n",
    "\n",
    "print(\"\\n\\nAverage Accuracy: {}\".format(np.array(all_accuracies_1).mean()))\n",
    "print(\"Average Inference Time: {}\".format(np.array(all_inference_1).mean()))\n",
    "print(\"Std Inference Time: {}\".format(np.array(all_inference_1).std ()))\n",
    "\n",
    "del all_accuracies_1, all_inference_1"
   ]
  },
  {
   "cell_type": "markdown",
   "metadata": {},
   "source": [
    "### Batch Size 64"
   ]
  },
  {
   "cell_type": "code",
   "execution_count": 7,
   "metadata": {},
   "outputs": [
    {
     "name": "stdout",
     "output_type": "stream",
     "text": [
      "\n",
      "Run- 1\n",
      "Inference Time:  2.4155565318028638e-05\n",
      "Testing Accuracy:  97.37\n",
      "\n",
      "Run- 2\n",
      "Inference Time:  1.6190182821006532e-05\n",
      "Testing Accuracy:  97.37\n",
      "\n",
      "Run- 3\n",
      "Inference Time:  1.7612152228689496e-05\n",
      "Testing Accuracy:  97.37\n",
      "\n",
      "Run- 4\n",
      "Inference Time:  1.804312323309054e-05\n",
      "Testing Accuracy:  97.37\n",
      "\n",
      "Run- 5\n",
      "Inference Time:  2.2014614882742524e-05\n",
      "Testing Accuracy:  97.37\n",
      "\n",
      "\n",
      "Average Accuracy: 97.37\n",
      "Average Inference Time: 1.9603127696711548e-05\n",
      "Std Inference Time: 2.9861596979987197e-06\n"
     ]
    }
   ],
   "source": [
    "# Batch Size 64 experiments\n",
    "all_accuracies_64, all_inference_64 = [], []\n",
    "for i in range(5):\n",
    "    print(\"\\nRun-\", (i + 1))\n",
    "    baselineAcc, baselineInf = testLoop(inputModel = baseline_model, dataloader = test_loader_64, batch_size = 64)\n",
    "\n",
    "    all_accuracies_64.append(baselineAcc)\n",
    "    all_inference_64.append(baselineInf)\n",
    "    \n",
    "    print(\"Inference Time: \", baselineInf)\n",
    "    print(\"Testing Accuracy: \", baselineAcc)\n",
    "\n",
    "print(\"\\n\\nAverage Accuracy: {}\".format(np.array(all_accuracies_64).mean()))\n",
    "print(\"Average Inference Time: {}\".format(np.array(all_inference_64).mean()))\n",
    "print(\"Std Inference Time: {}\".format(np.array(all_inference_64).std ()))\n",
    "\n",
    "del all_accuracies_64, all_inference_64"
   ]
  },
  {
   "cell_type": "markdown",
   "metadata": {},
   "source": [
    "# Dynamic quantization in PyTorch"
   ]
  },
  {
   "cell_type": "code",
   "execution_count": 8,
   "metadata": {},
   "outputs": [],
   "source": [
    "from torch.quantization.quantize_fx import prepare_fx, prepare_qat_fx, convert_fx"
   ]
  },
  {
   "cell_type": "markdown",
   "metadata": {},
   "source": [
    "## Float 16 Quantization (Will not run on Mac M1, use Colab)"
   ]
  },
  {
   "cell_type": "code",
   "execution_count": 9,
   "metadata": {},
   "outputs": [],
   "source": [
    "# torch.backends.quantized.engine = 'fbgemm'\n",
    "# model_dynamic_float_16 = torch.quantization.quantize_dynamic(baseline_model, {torch.nn.Linear}, dtype=torch.float16)\n",
    "\n",
    "# print(\"Model precision: float16\")\n",
    "# model_size_storgae = print_size_of_model(model_dynamic_float_16)"
   ]
  },
  {
   "cell_type": "markdown",
   "metadata": {},
   "source": [
    "### Batch Size 1"
   ]
  },
  {
   "cell_type": "code",
   "execution_count": 10,
   "metadata": {},
   "outputs": [],
   "source": [
    "# # Batch Size 1 experiments\n",
    "# all_accuracies_float16_1, all_inference_float16_1 = [], []\n",
    "# for i in range(5):\n",
    "#     print(\"\\nRun-\", (i + 1))\n",
    "#     baselineAcc, baselineInf = testLoop(inputModel = model_dynamic_float_16, dataloader = test_loader_1, batch_size = 1)\n",
    "\n",
    "#     all_accuracies_float16_1.append(baselineAcc)\n",
    "#     all_inference_float16_1.append(baselineInf)\n",
    "    \n",
    "#     print(\"Inference Time: \", baselineInf)\n",
    "#     print(\"Testing Accuracy: \", baselineAcc)\n",
    "\n",
    "\n",
    "# print(\"\\n\\nAverage Accuracy: {}\".format(np.array(all_accuracies_float16_1).mean()))\n",
    "# print(\"Average Inference Time: {}\".format(np.array(all_inference_float16_1).mean()))\n",
    "# print(\"Std Inference Time: {}\".format(np.array(all_inference_float16_1).std ()))\n",
    "\n",
    "# del all_accuracies_float16_1, all_inference_float16_1 "
   ]
  },
  {
   "cell_type": "markdown",
   "metadata": {},
   "source": [
    "### Batch Size 64"
   ]
  },
  {
   "cell_type": "code",
   "execution_count": 11,
   "metadata": {},
   "outputs": [],
   "source": [
    "# # Batch Size 64 experiments\n",
    "# all_accuracies_float16_64, all_inference_float16_64 = [], []\n",
    "# for i in range(5):\n",
    "#     print(\"\\nRun-\", (i + 1))\n",
    "#     baselineAcc, baselineInf = testLoop(inputModel = model_dynamic_float_16, dataloader = test_loader_64, batch_size = 64)\n",
    "\n",
    "#     all_accuracies_float16_64.append(baselineAcc)\n",
    "#     all_inference_float16_64.append(baselineInf)\n",
    "    \n",
    "#     print(\"Inference Time: \", baselineInf)\n",
    "#     print(\"Testing Accuracy: \", baselineAcc)\n",
    "\n",
    "# print(\"\\n\\nAverage Accuracy: {}\".format(np.array(all_accuracies_float16_64).mean()))\n",
    "# print(\"Average Inference Time: {}\".format(np.array(all_inference_float16_64).mean()))\n",
    "# print(\"Std Inference Time: {}\".format(np.array(all_inference_float16_64).std ()))\n",
    "\n",
    "# del all_accuracies_float16_64, all_inference_float16_64"
   ]
  },
  {
   "cell_type": "markdown",
   "metadata": {},
   "source": [
    "# q INT8 Quantization"
   ]
  },
  {
   "cell_type": "code",
   "execution_count": 12,
   "metadata": {},
   "outputs": [
    {
     "name": "stdout",
     "output_type": "stream",
     "text": [
      "Model precision: qint8\n",
      "model:    \t Size (MB): 1.873623\n"
     ]
    }
   ],
   "source": [
    "torch.backends.quantized.engine = 'qnnpack'\n",
    "model_dynamic_q_int8 = torch.quantization.quantize_dynamic(baseline_model, {torch.nn.Linear}, dtype=torch.qint8)\n",
    "\n",
    "print(\"Model precision: qint8\")\n",
    "model_size_storgae = print_size_of_model(model_dynamic_q_int8)"
   ]
  },
  {
   "cell_type": "markdown",
   "metadata": {},
   "source": [
    "### Batch Size 1"
   ]
  },
  {
   "cell_type": "code",
   "execution_count": 13,
   "metadata": {},
   "outputs": [
    {
     "name": "stdout",
     "output_type": "stream",
     "text": [
      "\n",
      "Run- 1\n"
     ]
    },
    {
     "name": "stderr",
     "output_type": "stream",
     "text": [
      "[W qlinear_dynamic.cpp:247] Warning: Currently, qnnpack incorrectly ignores reduce_range when it is set to true; this may change in a future release. (function operator())\n"
     ]
    },
    {
     "name": "stdout",
     "output_type": "stream",
     "text": [
      "Inference Time:  0.0005500967979431153\n",
      "Testing Accuracy:  97.4\n",
      "\n",
      "Run- 2\n",
      "Inference Time:  0.00040484278202056884\n",
      "Testing Accuracy:  97.4\n",
      "\n",
      "Run- 3\n",
      "Inference Time:  0.00033933110237121584\n",
      "Testing Accuracy:  97.4\n",
      "\n",
      "Run- 4\n",
      "Inference Time:  0.0003362049102783203\n",
      "Testing Accuracy:  97.4\n",
      "\n",
      "Run- 5\n",
      "Inference Time:  0.00034634108543395994\n",
      "Testing Accuracy:  97.4\n",
      "\n",
      "\n",
      "Average Accuracy: 97.4\n",
      "Average Inference Time: 0.00039536333560943605\n",
      "Std Inference Time: 8.13324237086491e-05\n"
     ]
    }
   ],
   "source": [
    "# Batch Size 1 experiments\n",
    "all_accuracies_qint8_1, all_inference_qint8_1 = [], []\n",
    "for i in range(5):\n",
    "    print(\"\\nRun-\", (i + 1))\n",
    "    baselineAcc, baselineInf = testLoop(inputModel = model_dynamic_q_int8, dataloader = test_loader_1, batch_size = 1)\n",
    "\n",
    "    all_accuracies_qint8_1.append(baselineAcc)\n",
    "    all_inference_qint8_1.append(baselineInf)\n",
    "    \n",
    "    print(\"Inference Time: \", baselineInf)\n",
    "    print(\"Testing Accuracy: \", baselineAcc)\n",
    "\n",
    "\n",
    "print(\"\\n\\nAverage Accuracy: {}\".format(np.array(all_accuracies_qint8_1).mean()))\n",
    "print(\"Average Inference Time: {}\".format(np.array(all_inference_qint8_1).mean()))\n",
    "print(\"Std Inference Time: {}\".format(np.array(all_inference_qint8_1).std ()))\n",
    "\n",
    "del all_accuracies_qint8_1, all_inference_qint8_1 "
   ]
  },
  {
   "cell_type": "markdown",
   "metadata": {},
   "source": [
    "### Batch Size 64"
   ]
  },
  {
   "cell_type": "code",
   "execution_count": 14,
   "metadata": {},
   "outputs": [
    {
     "name": "stdout",
     "output_type": "stream",
     "text": [
      "\n",
      "Run- 1\n",
      "Inference Time:  3.164479876779447e-05\n",
      "Testing Accuracy:  97.41\n",
      "\n",
      "Run- 2\n",
      "Inference Time:  2.558489039445379e-05\n",
      "Testing Accuracy:  97.42\n",
      "\n",
      "Run- 3\n",
      "Inference Time:  2.5975903508010183e-05\n",
      "Testing Accuracy:  97.4\n",
      "\n",
      "Run- 4\n",
      "Inference Time:  2.7317957134003852e-05\n",
      "Testing Accuracy:  97.4\n",
      "\n",
      "Run- 5\n",
      "Inference Time:  3.455353865198269e-05\n",
      "Testing Accuracy:  97.39\n",
      "\n",
      "\n",
      "Average Accuracy: 97.404\n",
      "Average Inference Time: 2.9015417691248995e-05\n",
      "Std Inference Time: 3.506364640734996e-06\n"
     ]
    }
   ],
   "source": [
    "# Batch Size 64 experiments\n",
    "all_accuracies_qint8_64, all_inference_qint8_64 = [], []\n",
    "for i in range(5):\n",
    "    print(\"\\nRun-\", (i + 1))\n",
    "    baselineAcc, baselineInf = testLoop(inputModel = model_dynamic_q_int8, dataloader = test_loader_64, batch_size = 64)\n",
    "\n",
    "    all_accuracies_qint8_64.append(baselineAcc)\n",
    "    all_inference_qint8_64.append(baselineInf)\n",
    "    \n",
    "    print(\"Inference Time: \", baselineInf)\n",
    "    print(\"Testing Accuracy: \", baselineAcc)\n",
    "\n",
    "print(\"\\n\\nAverage Accuracy: {}\".format(np.array(all_accuracies_qint8_64).mean()))\n",
    "print(\"Average Inference Time: {}\".format(np.array(all_inference_qint8_64).mean()))\n",
    "print(\"Std Inference Time: {}\".format(np.array(all_inference_qint8_64).std ()))\n",
    "\n",
    "del all_accuracies_qint8_64, all_inference_qint8_64"
   ]
  },
  {
   "cell_type": "markdown",
   "metadata": {},
   "source": [
    "# Static Quantization (q INT8)"
   ]
  },
  {
   "cell_type": "code",
   "execution_count": 15,
   "metadata": {},
   "outputs": [
    {
     "name": "stdout",
     "output_type": "stream",
     "text": [
      "Model precision: qint8\n",
      "model:    \t Size (MB): 1.873623\n"
     ]
    }
   ],
   "source": [
    "from torch.quantization.quantize_fx import prepare_fx, prepare_qat_fx, convert_fx\n",
    "qconfig_mapping = torch.ao.quantization.get_default_qconfig_mapping(\"qnnpack\")\n",
    "quantized_model = torch.ao.quantization.quantize_fx.prepare_fx(baseline_model, qconfig_mapping, torch.randn(784, 1000))\n",
    "\n",
    "def calibrate(model, dataloader):\n",
    "    model.eval()\n",
    "    with torch.no_grad():\n",
    "        for input in dataloader:\n",
    "            model(input[0])\n",
    "\n",
    "calibrate(quantized_model, train_loader)\n",
    "static_quantized_model_int8 = torch.ao.quantization.quantize_fx.convert_fx(quantized_model)\n",
    "\n",
    "print(\"Model precision: qint8\")\n",
    "model_size_storgae = print_size_of_model(model_dynamic_q_int8)"
   ]
  },
  {
   "cell_type": "markdown",
   "metadata": {},
   "source": [
    "### Batch Size 1"
   ]
  },
  {
   "cell_type": "code",
   "execution_count": 16,
   "metadata": {},
   "outputs": [
    {
     "name": "stdout",
     "output_type": "stream",
     "text": [
      "\n",
      "Run- 1\n",
      "Inference Time:  0.0003821171045303345\n",
      "Testing Accuracy:  97.39\n",
      "\n",
      "Run- 2\n",
      "Inference Time:  0.00031534719467163087\n",
      "Testing Accuracy:  97.39\n",
      "\n",
      "Run- 3\n",
      "Inference Time:  0.0002933868169784546\n",
      "Testing Accuracy:  97.39\n",
      "\n",
      "Run- 4\n",
      "Inference Time:  0.0002848755121231079\n",
      "Testing Accuracy:  97.39\n",
      "\n",
      "Run- 5\n",
      "Inference Time:  0.00029399459362030027\n",
      "Testing Accuracy:  97.39\n",
      "\n",
      "\n",
      "Average Accuracy: 97.39\n",
      "Average Inference Time: 0.0003139442443847656\n",
      "Std Inference Time: 3.553897779178385e-05\n"
     ]
    }
   ],
   "source": [
    "# Batch Size 1 experiments\n",
    "all_accuracies_qint8_1, all_inference_qint8_1 = [], []\n",
    "for i in range(5):\n",
    "    print(\"\\nRun-\", (i + 1))\n",
    "    baselineAcc, baselineInf = testLoop(inputModel = static_quantized_model_int8, dataloader = test_loader_1, batch_size = 1)\n",
    "\n",
    "    all_accuracies_qint8_1.append(baselineAcc)\n",
    "    all_inference_qint8_1.append(baselineInf)\n",
    "    \n",
    "    print(\"Inference Time: \", baselineInf)\n",
    "    print(\"Testing Accuracy: \", baselineAcc)\n",
    "\n",
    "print(\"\\n\\nAverage Accuracy: {}\".format(np.array(all_accuracies_qint8_1).mean()))\n",
    "print(\"Average Inference Time: {}\".format(np.array(all_inference_qint8_1).mean()))\n",
    "print(\"Std Inference Time: {}\".format(np.array(all_inference_qint8_1).std ()))\n",
    "\n",
    "del all_accuracies_qint8_1, all_inference_qint8_1"
   ]
  },
  {
   "cell_type": "markdown",
   "metadata": {},
   "source": [
    "### Batch Size 64"
   ]
  },
  {
   "cell_type": "code",
   "execution_count": 17,
   "metadata": {},
   "outputs": [
    {
     "name": "stdout",
     "output_type": "stream",
     "text": [
      "\n",
      "Run- 1\n",
      "Inference Time:  3.7731899387517554e-05\n",
      "Testing Accuracy:  97.39\n",
      "\n",
      "Run- 2\n",
      "Inference Time:  2.337014599210897e-05\n",
      "Testing Accuracy:  97.39\n",
      "\n",
      "Run- 3\n",
      "Inference Time:  2.4947343738215744e-05\n",
      "Testing Accuracy:  97.39\n",
      "\n",
      "Run- 4\n",
      "Inference Time:  2.570341157305772e-05\n",
      "Testing Accuracy:  97.39\n",
      "\n",
      "Run- 5\n",
      "Inference Time:  2.0976611383401663e-05\n",
      "Testing Accuracy:  97.39\n",
      "\n",
      "\n",
      "Average Accuracy: 97.39\n",
      "Average Inference Time: 2.654588241486033e-05\n",
      "Std Inference Time: 5.8222700105925355e-06\n"
     ]
    }
   ],
   "source": [
    "# Batch Size 64 experiments\n",
    "all_accuracies_qint8_64, all_inference_qint8_64 = [], []\n",
    "for i in range(5):\n",
    "    print(\"\\nRun-\", (i + 1))\n",
    "    baselineAcc, baselineInf = testLoop(inputModel = static_quantized_model_int8, dataloader = test_loader_64, batch_size = 64)\n",
    "\n",
    "    all_accuracies_qint8_64.append(baselineAcc)\n",
    "    all_inference_qint8_64.append(baselineInf)\n",
    "    \n",
    "    print(\"Inference Time: \", baselineInf)\n",
    "    print(\"Testing Accuracy: \", baselineAcc)\n",
    "\n",
    "print(\"\\n\\nAverage Accuracy: {}\".format(np.array(all_accuracies_qint8_64).mean()))\n",
    "print(\"Average Inference Time: {}\".format(np.array(all_inference_qint8_64).mean()))\n",
    "print(\"Std Inference Time: {}\".format(np.array(all_inference_qint8_64).std ()))\n",
    "\n",
    "del all_accuracies_qint8_64, all_inference_qint8_64"
   ]
  }
 ],
 "metadata": {
  "kernelspec": {
   "display_name": "Python 3",
   "language": "python",
   "name": "python3"
  },
  "language_info": {
   "codemirror_mode": {
    "name": "ipython",
    "version": 3
   },
   "file_extension": ".py",
   "mimetype": "text/x-python",
   "name": "python",
   "nbconvert_exporter": "python",
   "pygments_lexer": "ipython3",
   "version": "3.11.6"
  },
  "orig_nbformat": 4
 },
 "nbformat": 4,
 "nbformat_minor": 2
}
