{
  "cells": [
    {
      "cell_type": "markdown",
      "metadata": {
        "id": "Gw2xyVF9y29a"
      },
      "source": [
        "# Lab 3: Quantitized Model Benchmarking Efficiency in Feed-Forward Neural Networks.\n",
        "\n",
        "**Team Cyclops**\n"
      ]
    },
    {
      "cell_type": "code",
      "execution_count": 2,
      "metadata": {
        "colab": {
          "base_uri": "https://localhost:8080/"
        },
        "id": "0BOslHvZy29d",
        "outputId": "081742f5-2531-40ba-db05-b15e013be158"
      },
      "outputs": [
        {
          "output_type": "stream",
          "name": "stdout",
          "text": [
            "Device:  cpu\n"
          ]
        }
      ],
      "source": [
        "# Below is the code for building the network\n",
        "\n",
        "import torch\n",
        "import csv\n",
        "import matplotlib.pyplot as plt\n",
        "import pandas as pd\n",
        "import numpy as np\n",
        "import time\n",
        "import torchvision\n",
        "from PIL import Image\n",
        "import os\n",
        "\n",
        "device = 'cuda' if torch.cuda.is_available() else 'cpu'\n",
        "print(\"Device: \", device)\n",
        "\n",
        "trainPath = \"./MNIST/mnist_train.csv\"\n",
        "testPath = \"./MNIST/mnist_test.csv\""
      ]
    },
    {
      "cell_type": "code",
      "execution_count": 3,
      "metadata": {
        "colab": {
          "base_uri": "https://localhost:8080/",
          "height": 653
        },
        "id": "Zq-YpgLty29e",
        "outputId": "c95d4639-8d24-4217-eaa4-4d8928898ce9"
      },
      "outputs": [
        {
          "output_type": "display_data",
          "data": {
            "text/plain": [
              "<Figure size 800x800 with 4 Axes>"
            ],
            "image/png": "[encoded data removed]"
          },
          "metadata": {}
        }
      ],
      "source": [
        "# Define Dataloader\n",
        "class MNISTDataset(torch.utils.data.Dataset):\n",
        "\n",
        "    def __init__(self, fileName: str, transform = None):\n",
        "        self.X_Data, self.Y_Data = [], []\n",
        "\n",
        "        with open(fileName, mode = 'r') as f:\n",
        "\n",
        "            csvreader = csv.reader(f)\n",
        "\n",
        "            for line in csvreader:\n",
        "                row = list(map(int, line))\n",
        "\n",
        "                pixels = row[1:]\n",
        "                label = row[0]\n",
        "\n",
        "                pixels = (pixels - np.mean(pixels, axis = 0))/np.std(pixels, axis = 0)\n",
        "\n",
        "                self.X_Data.append(pixels)\n",
        "                self.Y_Data.append(label)\n",
        "\n",
        "        self.transform = transform\n",
        "        self.length = len(self.Y_Data)\n",
        "\n",
        "    def __len__(self):\n",
        "        return self.length\n",
        "\n",
        "    def __getitem__(self, idx):\n",
        "\n",
        "        X_tensor = torch.FloatTensor(self.X_Data[idx])\n",
        "        Y_tensor = torch.tensor(self.Y_Data[idx])\n",
        "\n",
        "        if self.transform:\n",
        "            X_tensor = self.transform(X_tensor)\n",
        "\n",
        "        return X_tensor, Y_tensor\n",
        "\n",
        "\n",
        "\n",
        "trainMNIST  = MNISTDataset(trainPath, None)\n",
        "testMNIST = MNISTDataset(testPath, None)\n",
        "\n",
        "train_loader_temp = torch.utils.data.DataLoader(\n",
        "    dataset = trainMNIST,\n",
        "    batch_size = 64,\n",
        "    shuffle = True\n",
        ")\n",
        "\n",
        "test_loader_temp = torch.utils.data.DataLoader(\n",
        "    dataset = testMNIST,\n",
        "    batch_size = 64,\n",
        "    shuffle = True\n",
        ")\n",
        "\n",
        "\n",
        "r, c = [2, 2]\n",
        "fig, ax = plt.subplots(r, c, figsize= (8, 8))\n",
        "\n",
        "k = 0\n",
        "\n",
        "for data in train_loader_temp:\n",
        "    x, y = data\n",
        "\n",
        "    for i in range(r):\n",
        "        for j in range(c):\n",
        "            img = x[k].numpy().reshape(28, 28)\n",
        "            ax[i, j].imshow(img)\n",
        "            ax[i, j].axis('off')\n",
        "            k += 1\n",
        "\n",
        "    break\n",
        "\n",
        "del train_loader_temp, test_loader_temp"
      ]
    },
    {
      "cell_type": "code",
      "execution_count": 4,
      "metadata": {
        "id": "ywZtfGszy29f"
      },
      "outputs": [],
      "source": [
        "def trainLoop(inputModel, inputOptimizer, inputCriterion, dataloader, num_epochs = 2):\n",
        "\n",
        "    startTime = time.time()\n",
        "\n",
        "    # Looping over the epochs\n",
        "    for epoch in range(num_epochs):\n",
        "\n",
        "        # Putting the model in training loop\n",
        "        inputModel.train()\n",
        "\n",
        "        runningLoss = 0\n",
        "\n",
        "        for pixels, labels in dataloader:\n",
        "\n",
        "            # Zeroing the gradients\n",
        "            inputOptimizer.zero_grad()\n",
        "\n",
        "            # Forward Pass\n",
        "            outputs = inputModel(pixels)\n",
        "            loss = inputCriterion(outputs, labels)\n",
        "\n",
        "            # Backprop\n",
        "            loss.backward()\n",
        "            inputOptimizer.step()\n",
        "\n",
        "            runningLoss += loss.item()\n",
        "\n",
        "        epochLoss = runningLoss/len(dataloader)\n",
        "        # print(f'Epoch [{epoch+1}/{num_epochs}] Loss: {epochLoss:.4f}')\n",
        "    endTime = time.time()\n",
        "    return (endTime - startTime)/num_epochs\n",
        "\n",
        "\n",
        "def testLoop(inputModel, dataloader, batch_size):\n",
        "\n",
        "    startTime = time.time()\n",
        "\n",
        "    correct_predictions = 0\n",
        "    total_predicitions = 0\n",
        "\n",
        "    # Putting the model in evaluation mode\n",
        "    inputModel.eval()\n",
        "\n",
        "    # Ensuring no gradients are calculated\n",
        "    with torch.no_grad():\n",
        "        for pixels, numbers in dataloader:\n",
        "\n",
        "            # Forward Pass\n",
        "            outputs = inputModel(pixels)\n",
        "\n",
        "            # Inference\n",
        "            correct_predictions += torch.sum(torch.argmax(outputs, dim = 1) == numbers).item()\n",
        "            total_predicitions += len(numbers)\n",
        "\n",
        "\n",
        "    accuracy = 100 * correct_predictions/total_predicitions\n",
        "    endTime = time.time()\n",
        "    return accuracy, (endTime - startTime)/(len(dataloader)*batch_size)\n",
        "\n",
        "\n",
        "\n",
        "# Computing the Parameters in the model\n",
        "def getParams(inputModel):\n",
        "\n",
        "    model_size = 0\n",
        "    for f in inputModel.parameters():\n",
        "        if f.requires_grad:\n",
        "\n",
        "            model_size += f.numel()\n",
        "\n",
        "    return model_size\n",
        "\n",
        "# Computing FLOPS\n",
        "def getFLOPS(inputModel):\n",
        "\n",
        "    flops = 0\n",
        "\n",
        "    for f in inputModel.parameters():\n",
        "        if f.requires_grad:\n",
        "\n",
        "            if f.ndim == 1:\n",
        "                flops += 2*f.shape[0]\n",
        "            else:\n",
        "                flops += 2*f.shape[0]*f.shape[1]\n",
        "\n",
        "    return flops\n",
        "\n",
        "def print_size_of_model(model, label=\"\"):\n",
        "    torch.save(model.state_dict(), \"temp.p\")\n",
        "    size=os.path.getsize(\"temp.p\")\n",
        "    print(\"model: \",label,' \\t','Size (MB):', size/1e6)\n",
        "    os.remove('temp.p')\n",
        "    return size"
      ]
    },
    {
      "cell_type": "code",
      "execution_count": 5,
      "metadata": {
        "id": "sBerVaG1y29g"
      },
      "outputs": [],
      "source": [
        "train_loader = torch.utils.data.DataLoader(\n",
        "    dataset = trainMNIST,\n",
        "    batch_size = 64,\n",
        "    shuffle = True\n",
        ")\n",
        "\n",
        "test_loader_1 = torch.utils.data.DataLoader(\n",
        "    dataset = testMNIST,\n",
        "    batch_size = 1,\n",
        "    shuffle = True\n",
        ")\n",
        "\n",
        "test_loader_64 = torch.utils.data.DataLoader(\n",
        "    dataset = testMNIST,\n",
        "    batch_size = 64,\n",
        "    shuffle = True\n",
        ")\n",
        "\n",
        "# BaseLine Model\n",
        "class BaselineMLP(torch.nn.Module):\n",
        "\n",
        "    def __init__(self, input_size = 784, output_size = 10, hidden_size = 1024):\n",
        "\n",
        "        super(BaselineMLP, self).__init__()\n",
        "\n",
        "        self.model = torch.nn.Sequential(\n",
        "            torch.nn.Linear(input_size, hidden_size),\n",
        "            torch.nn.ReLU(),\n",
        "\n",
        "            torch.nn.Linear(hidden_size, hidden_size),\n",
        "            torch.nn.ReLU(),\n",
        "\n",
        "            torch.nn.Linear(hidden_size, output_size)\n",
        "        )\n",
        "\n",
        "    def forward(self, x):\n",
        "\n",
        "        out = self.model(x)\n",
        "        return out"
      ]
    },
    {
      "cell_type": "markdown",
      "metadata": {
        "id": "C6pAiykIy29g"
      },
      "source": [
        "# Model Training"
      ]
    },
    {
      "cell_type": "code",
      "execution_count": 6,
      "metadata": {
        "colab": {
          "base_uri": "https://localhost:8080/"
        },
        "id": "Kn9gxjX1y29g",
        "outputId": "c49761a6-e342-458c-f7b6-cf788a96d980"
      },
      "outputs": [
        {
          "output_type": "stream",
          "name": "stdout",
          "text": [
            "Training time per epoch:  36.86110031604767\n",
            "Model precision: fp32\n",
            "model:    \t Size (MB): 7.457066\n",
            "Number of parameters: 1863690\n"
          ]
        }
      ],
      "source": [
        "baseline_model  = BaselineMLP(input_size = 784, output_size = 10, hidden_size = 1024).to(device)\n",
        "baseline_criterion = torch.nn.CrossEntropyLoss()\n",
        "baseline_optimizer = torch.optim.Adam(baseline_model.parameters(), lr = 0.001)\n",
        "\n",
        "predTime = trainLoop(inputModel = baseline_model, inputOptimizer = baseline_optimizer, inputCriterion = baseline_criterion, dataloader = train_loader, num_epochs = 2)\n",
        "print(\"Training time per epoch: \", predTime)\n",
        "\n",
        "print(\"Model precision: fp32\")\n",
        "model_size_storgae = print_size_of_model(baseline_model)\n",
        "\n",
        "model_size_params = getParams(baseline_model)\n",
        "print(\"Number of parameters: {}\".format(model_size_params))"
      ]
    },
    {
      "cell_type": "markdown",
      "metadata": {
        "id": "YYbFgJv8y29h"
      },
      "source": [
        "### Batch Size 1"
      ]
    },
    {
      "cell_type": "code",
      "execution_count": 7,
      "metadata": {
        "colab": {
          "base_uri": "https://localhost:8080/"
        },
        "id": "-_FasIOhy29h",
        "outputId": "27201954-9387-49f1-aec6-7445290e81e5"
      },
      "outputs": [
        {
          "output_type": "stream",
          "name": "stdout",
          "text": [
            "\n",
            "Run- 1\n",
            "Inference Time:  0.0006511002779006958\n",
            "Testing Accuracy:  97.26\n",
            "\n",
            "Run- 2\n",
            "Inference Time:  0.0008302306890487671\n",
            "Testing Accuracy:  97.26\n",
            "\n",
            "Run- 3\n",
            "Inference Time:  0.0009377162933349609\n",
            "Testing Accuracy:  97.26\n",
            "\n",
            "Run- 4\n",
            "Inference Time:  0.0007250999927520752\n",
            "Testing Accuracy:  97.26\n",
            "\n",
            "Run- 5\n",
            "Inference Time:  0.0008703519821166992\n",
            "Testing Accuracy:  97.26\n",
            "\n",
            "\n",
            "Average Accuracy: 97.26\n",
            "Average Inference Time: 0.0008028998470306397\n",
            "Std Inference Time: 0.00010253600944157743\n"
          ]
        }
      ],
      "source": [
        "# Batch Size 1 experiments\n",
        "all_accuracies_1, all_inference_1 = [], []\n",
        "for i in range(5):\n",
        "    print(\"\\nRun-\", (i + 1))\n",
        "    baselineAcc, baselineInf = testLoop(inputModel = baseline_model, dataloader = test_loader_1, batch_size = 1)\n",
        "\n",
        "    all_accuracies_1.append(baselineAcc)\n",
        "    all_inference_1.append(baselineInf)\n",
        "\n",
        "    print(\"Inference Time: \", baselineInf)\n",
        "    print(\"Testing Accuracy: \", baselineAcc)\n",
        "\n",
        "\n",
        "print(\"\\n\\nAverage Accuracy: {}\".format(np.array(all_accuracies_1).mean()))\n",
        "print(\"Average Inference Time: {}\".format(np.array(all_inference_1).mean()))\n",
        "print(\"Std Inference Time: {}\".format(np.array(all_inference_1).std ()))\n",
        "\n",
        "del all_accuracies_1, all_inference_1"
      ]
    },
    {
      "cell_type": "markdown",
      "metadata": {
        "id": "FgP9I8ksy29h"
      },
      "source": [
        "### Batch Size 64"
      ]
    },
    {
      "cell_type": "code",
      "execution_count": 8,
      "metadata": {
        "colab": {
          "base_uri": "https://localhost:8080/"
        },
        "id": "8jRMNYMuy29h",
        "outputId": "817f9bd9-8b1b-4b70-de85-359e8a7812f8"
      },
      "outputs": [
        {
          "output_type": "stream",
          "name": "stdout",
          "text": [
            "\n",
            "Run- 1\n",
            "Inference Time:  0.00010992743217261733\n",
            "Testing Accuracy:  97.26\n",
            "\n",
            "Run- 2\n",
            "Inference Time:  0.00010708097819310085\n",
            "Testing Accuracy:  97.26\n",
            "\n",
            "Run- 3\n",
            "Inference Time:  0.00010973682544033998\n",
            "Testing Accuracy:  97.26\n",
            "\n",
            "Run- 4\n",
            "Inference Time:  0.00010689511705356039\n",
            "Testing Accuracy:  97.26\n",
            "\n",
            "Run- 5\n",
            "Inference Time:  0.00010886543970199147\n",
            "Testing Accuracy:  97.26\n",
            "\n",
            "\n",
            "Average Accuracy: 97.26\n",
            "Average Inference Time: 0.000108501158512322\n",
            "Std Inference Time: 1.2876421399255966e-06\n"
          ]
        }
      ],
      "source": [
        "# Batch Size 64 experiments\n",
        "all_accuracies_64, all_inference_64 = [], []\n",
        "for i in range(5):\n",
        "    print(\"\\nRun-\", (i + 1))\n",
        "    baselineAcc, baselineInf = testLoop(inputModel = baseline_model, dataloader = test_loader_64, batch_size = 64)\n",
        "\n",
        "    all_accuracies_64.append(baselineAcc)\n",
        "    all_inference_64.append(baselineInf)\n",
        "\n",
        "    print(\"Inference Time: \", baselineInf)\n",
        "    print(\"Testing Accuracy: \", baselineAcc)\n",
        "\n",
        "print(\"\\n\\nAverage Accuracy: {}\".format(np.array(all_accuracies_64).mean()))\n",
        "print(\"Average Inference Time: {}\".format(np.array(all_inference_64).mean()))\n",
        "print(\"Std Inference Time: {}\".format(np.array(all_inference_64).std ()))\n",
        "\n",
        "del all_accuracies_64, all_inference_64"
      ]
    },
    {
      "cell_type": "markdown",
      "metadata": {
        "id": "AnFFZew6y29h"
      },
      "source": [
        "# Dynamic quantization in PyTorch"
      ]
    },
    {
      "cell_type": "code",
      "execution_count": 9,
      "metadata": {
        "id": "_CzmZa2vy29h"
      },
      "outputs": [],
      "source": [
        "from torch.quantization.quantize_fx import prepare_fx, prepare_qat_fx, convert_fx"
      ]
    },
    {
      "cell_type": "markdown",
      "metadata": {
        "id": "q1HJNykby29h"
      },
      "source": [
        "## Float 16 Quantization"
      ]
    },
    {
      "cell_type": "code",
      "execution_count": 10,
      "metadata": {
        "colab": {
          "base_uri": "https://localhost:8080/"
        },
        "id": "opB2qvp_y29h",
        "outputId": "a4bed5dc-5a2a-4f24-9fb4-755fe72f269e"
      },
      "outputs": [
        {
          "output_type": "stream",
          "name": "stdout",
          "text": [
            "Model precision: float16\n",
            "model:    \t Size (MB): 7.458946\n"
          ]
        }
      ],
      "source": [
        "torch.backends.quantized.engine = 'fbgemm'\n",
        "model_dynamic_float_16 = torch.quantization.quantize_dynamic(baseline_model, {torch.nn.Linear}, dtype=torch.float16)\n",
        "\n",
        "print(\"Model precision: float16\")\n",
        "model_size_storgae = print_size_of_model(model_dynamic_float_16)"
      ]
    },
    {
      "cell_type": "markdown",
      "metadata": {
        "id": "A_olkKgAy29h"
      },
      "source": [
        "### Batch Size 1"
      ]
    },
    {
      "cell_type": "code",
      "execution_count": 11,
      "metadata": {
        "colab": {
          "base_uri": "https://localhost:8080/"
        },
        "id": "W1TG7sILy29h",
        "outputId": "f25aea1f-754b-4ef9-c465-444d0e397678"
      },
      "outputs": [
        {
          "output_type": "stream",
          "name": "stdout",
          "text": [
            "\n",
            "Run- 1\n",
            "Inference Time:  0.0007602653503417969\n",
            "Testing Accuracy:  97.26\n",
            "\n",
            "Run- 2\n",
            "Inference Time:  0.0007257496356964111\n",
            "Testing Accuracy:  97.26\n",
            "\n",
            "Run- 3\n",
            "Inference Time:  0.0007013635396957398\n",
            "Testing Accuracy:  97.26\n",
            "\n",
            "Run- 4\n",
            "Inference Time:  0.0007522077798843384\n",
            "Testing Accuracy:  97.26\n",
            "\n",
            "Run- 5\n",
            "Inference Time:  0.0007139513254165649\n",
            "Testing Accuracy:  97.26\n",
            "\n",
            "\n",
            "Average Accuracy: 97.26\n",
            "Average Inference Time: 0.0007307075262069703\n",
            "Std Inference Time: 2.237117057013723e-05\n"
          ]
        }
      ],
      "source": [
        "# Batch Size 1 experiments\n",
        "all_accuracies_float16_1, all_inference_float16_1 = [], []\n",
        "for i in range(5):\n",
        "    print(\"\\nRun-\", (i + 1))\n",
        "    baselineAcc, baselineInf = testLoop(inputModel = model_dynamic_float_16, dataloader = test_loader_1, batch_size = 1)\n",
        "\n",
        "    all_accuracies_float16_1.append(baselineAcc)\n",
        "    all_inference_float16_1.append(baselineInf)\n",
        "\n",
        "    print(\"Inference Time: \", baselineInf)\n",
        "    print(\"Testing Accuracy: \", baselineAcc)\n",
        "\n",
        "\n",
        "print(\"\\n\\nAverage Accuracy: {}\".format(np.array(all_accuracies_float16_1).mean()))\n",
        "print(\"Average Inference Time: {}\".format(np.array(all_inference_float16_1).mean()))\n",
        "print(\"Std Inference Time: {}\".format(np.array(all_inference_float16_1).std ()))\n",
        "\n",
        "del all_accuracies_float16_1, all_inference_float16_1"
      ]
    },
    {
      "cell_type": "markdown",
      "metadata": {
        "id": "4CmTZ8Bky29i"
      },
      "source": [
        "### Batch Size 64"
      ]
    },
    {
      "cell_type": "code",
      "execution_count": 12,
      "metadata": {
        "colab": {
          "base_uri": "https://localhost:8080/"
        },
        "id": "gLVlBZp8y29i",
        "outputId": "6af7ff10-12f1-4b9d-dc68-766d63fcd4c3"
      },
      "outputs": [
        {
          "output_type": "stream",
          "name": "stdout",
          "text": [
            "\n",
            "Run- 1\n",
            "Inference Time:  0.00010344044418091987\n",
            "Testing Accuracy:  97.26\n",
            "\n",
            "Run- 2\n",
            "Inference Time:  0.00011499233211681342\n",
            "Testing Accuracy:  97.26\n",
            "\n",
            "Run- 3\n",
            "Inference Time:  0.00016427047218486762\n",
            "Testing Accuracy:  97.26\n",
            "\n",
            "Run- 4\n",
            "Inference Time:  0.00013517341606176584\n",
            "Testing Accuracy:  97.26\n",
            "\n",
            "Run- 5\n",
            "Inference Time:  0.00010245544895245012\n",
            "Testing Accuracy:  97.26\n",
            "\n",
            "\n",
            "Average Accuracy: 97.26\n",
            "Average Inference Time: 0.00012406642269936335\n",
            "Std Inference Time: 2.3300365630687924e-05\n"
          ]
        }
      ],
      "source": [
        "# Batch Size 64 experiments\n",
        "all_accuracies_float16_64, all_inference_float16_64 = [], []\n",
        "for i in range(5):\n",
        "    print(\"\\nRun-\", (i + 1))\n",
        "    baselineAcc, baselineInf = testLoop(inputModel = model_dynamic_float_16, dataloader = test_loader_64, batch_size = 64)\n",
        "\n",
        "    all_accuracies_float16_64.append(baselineAcc)\n",
        "    all_inference_float16_64.append(baselineInf)\n",
        "\n",
        "    print(\"Inference Time: \", baselineInf)\n",
        "    print(\"Testing Accuracy: \", baselineAcc)\n",
        "\n",
        "print(\"\\n\\nAverage Accuracy: {}\".format(np.array(all_accuracies_float16_64).mean()))\n",
        "print(\"Average Inference Time: {}\".format(np.array(all_inference_float16_64).mean()))\n",
        "print(\"Std Inference Time: {}\".format(np.array(all_inference_float16_64).std ()))\n",
        "\n",
        "del all_accuracies_float16_64, all_inference_float16_64"
      ]
    },
    {
      "cell_type": "markdown",
      "metadata": {
        "id": "dQyDEuH_y29i"
      },
      "source": [
        "# q INT8 Quantization"
      ]
    },
    {
      "cell_type": "code",
      "execution_count": 13,
      "metadata": {
        "colab": {
          "base_uri": "https://localhost:8080/"
        },
        "id": "rHqu_LVEy29i",
        "outputId": "583ebc88-1dea-4797-bca2-40b112aecbc4"
      },
      "outputs": [
        {
          "output_type": "stream",
          "name": "stdout",
          "text": [
            "Model precision: qint8\n",
            "model:    \t Size (MB): 1.87405\n"
          ]
        }
      ],
      "source": [
        "torch.backends.quantized.engine = 'qnnpack'\n",
        "model_dynamic_q_int8 = torch.quantization.quantize_dynamic(baseline_model, {torch.nn.Linear}, dtype=torch.qint8)\n",
        "\n",
        "print(\"Model precision: qint8\")\n",
        "model_size_storgae = print_size_of_model(model_dynamic_q_int8)"
      ]
    },
    {
      "cell_type": "markdown",
      "metadata": {
        "id": "u5Re1kqHy29i"
      },
      "source": [
        "### Batch Size 1"
      ]
    },
    {
      "cell_type": "code",
      "execution_count": 14,
      "metadata": {
        "colab": {
          "base_uri": "https://localhost:8080/"
        },
        "id": "ZxCJTgwgy29i",
        "outputId": "cd862beb-ac38-40fc-e3aa-c595a0f80b85"
      },
      "outputs": [
        {
          "output_type": "stream",
          "name": "stdout",
          "text": [
            "\n",
            "Run- 1\n",
            "Inference Time:  0.0016380500316619873\n",
            "Testing Accuracy:  97.25\n",
            "\n",
            "Run- 2\n",
            "Inference Time:  0.002002140474319458\n",
            "Testing Accuracy:  97.25\n",
            "\n",
            "Run- 3\n",
            "Inference Time:  0.0016841702461242675\n",
            "Testing Accuracy:  97.25\n",
            "\n",
            "Run- 4\n",
            "Inference Time:  0.0017914504528045655\n",
            "Testing Accuracy:  97.25\n",
            "\n",
            "Run- 5\n",
            "Inference Time:  0.0016788361310958863\n",
            "Testing Accuracy:  97.25\n",
            "\n",
            "\n",
            "Average Accuracy: 97.25\n",
            "Average Inference Time: 0.001758929467201233\n",
            "Std Inference Time: 0.00013177627255987995\n"
          ]
        }
      ],
      "source": [
        "# Batch Size 1 experiments\n",
        "all_accuracies_qint8_1, all_inference_qint8_1 = [], []\n",
        "for i in range(5):\n",
        "    print(\"\\nRun-\", (i + 1))\n",
        "    baselineAcc, baselineInf = testLoop(inputModel = model_dynamic_q_int8, dataloader = test_loader_1, batch_size = 1)\n",
        "\n",
        "    all_accuracies_qint8_1.append(baselineAcc)\n",
        "    all_inference_qint8_1.append(baselineInf)\n",
        "\n",
        "    print(\"Inference Time: \", baselineInf)\n",
        "    print(\"Testing Accuracy: \", baselineAcc)\n",
        "\n",
        "\n",
        "print(\"\\n\\nAverage Accuracy: {}\".format(np.array(all_accuracies_qint8_1).mean()))\n",
        "print(\"Average Inference Time: {}\".format(np.array(all_inference_qint8_1).mean()))\n",
        "print(\"Std Inference Time: {}\".format(np.array(all_inference_qint8_1).std ()))\n",
        "\n",
        "del all_accuracies_qint8_1, all_inference_qint8_1"
      ]
    },
    {
      "cell_type": "markdown",
      "metadata": {
        "id": "A2bKHBP_y29i"
      },
      "source": [
        "### Batch Size 64"
      ]
    },
    {
      "cell_type": "code",
      "execution_count": 15,
      "metadata": {
        "colab": {
          "base_uri": "https://localhost:8080/"
        },
        "id": "4OEtvpp1y29i",
        "outputId": "2fc93a8f-f468-415b-a91a-7dd33cc5d36c"
      },
      "outputs": [
        {
          "output_type": "stream",
          "name": "stdout",
          "text": [
            "\n",
            "Run- 1\n",
            "Inference Time:  0.00023995959170305045\n",
            "Testing Accuracy:  97.25\n",
            "\n",
            "Run- 2\n",
            "Inference Time:  0.0002377419999450635\n",
            "Testing Accuracy:  97.28\n",
            "\n",
            "Run- 3\n",
            "Inference Time:  0.00037084398850513873\n",
            "Testing Accuracy:  97.26\n",
            "\n",
            "Run- 4\n",
            "Inference Time:  0.0002378223428300991\n",
            "Testing Accuracy:  97.28\n",
            "\n",
            "Run- 5\n",
            "Inference Time:  0.00023568625662736832\n",
            "Testing Accuracy:  97.26\n",
            "\n",
            "\n",
            "Average Accuracy: 97.266\n",
            "Average Inference Time: 0.00026441083592214403\n",
            "Std Inference Time: 5.3233740326144264e-05\n"
          ]
        }
      ],
      "source": [
        "# Batch Size 64 experiments\n",
        "all_accuracies_qint8_64, all_inference_qint8_64 = [], []\n",
        "for i in range(5):\n",
        "    print(\"\\nRun-\", (i + 1))\n",
        "    baselineAcc, baselineInf = testLoop(inputModel = model_dynamic_q_int8, dataloader = test_loader_64, batch_size = 64)\n",
        "\n",
        "    all_accuracies_qint8_64.append(baselineAcc)\n",
        "    all_inference_qint8_64.append(baselineInf)\n",
        "\n",
        "    print(\"Inference Time: \", baselineInf)\n",
        "    print(\"Testing Accuracy: \", baselineAcc)\n",
        "\n",
        "print(\"\\n\\nAverage Accuracy: {}\".format(np.array(all_accuracies_qint8_64).mean()))\n",
        "print(\"Average Inference Time: {}\".format(np.array(all_inference_qint8_64).mean()))\n",
        "print(\"Std Inference Time: {}\".format(np.array(all_inference_qint8_64).std ()))\n",
        "\n",
        "del all_accuracies_qint8_64, all_inference_qint8_64"
      ]
    },
    {
      "cell_type": "markdown",
      "metadata": {
        "id": "QXL9Avsyy29i"
      },
      "source": [
        "# Static Quantization (q INT8)"
      ]
    },
    {
      "cell_type": "code",
      "execution_count": 16,
      "metadata": {
        "colab": {
          "base_uri": "https://localhost:8080/"
        },
        "id": "HhXnfqI_y29i",
        "outputId": "1d9cf4a2-075d-4bb1-805b-417f50849b45"
      },
      "outputs": [
        {
          "output_type": "stream",
          "name": "stdout",
          "text": [
            "Model precision: qint8\n",
            "model:    \t Size (MB): 1.87405\n"
          ]
        }
      ],
      "source": [
        "from torch.quantization.quantize_fx import prepare_fx, prepare_qat_fx, convert_fx\n",
        "qconfig_mapping = torch.ao.quantization.get_default_qconfig_mapping(\"qnnpack\")\n",
        "quantized_model = torch.ao.quantization.quantize_fx.prepare_fx(baseline_model, qconfig_mapping, torch.randn(784, 1000))\n",
        "\n",
        "def calibrate(model, dataloader):\n",
        "    model.eval()\n",
        "    with torch.no_grad():\n",
        "        for input in dataloader:\n",
        "            model(input[0])\n",
        "\n",
        "calibrate(quantized_model, train_loader)\n",
        "static_quantized_model_int8 = torch.ao.quantization.quantize_fx.convert_fx(quantized_model)\n",
        "\n",
        "print(\"Model precision: qint8\")\n",
        "model_size_storgae = print_size_of_model(model_dynamic_q_int8)"
      ]
    },
    {
      "cell_type": "markdown",
      "metadata": {
        "id": "jE2AUY-ly29i"
      },
      "source": [
        "### Batch Size 1"
      ]
    },
    {
      "cell_type": "code",
      "execution_count": 17,
      "metadata": {
        "colab": {
          "base_uri": "https://localhost:8080/"
        },
        "id": "vZ4Wt5wAy29i",
        "outputId": "62f82eab-69d4-41f1-f484-f46b496608b5"
      },
      "outputs": [
        {
          "output_type": "stream",
          "name": "stdout",
          "text": [
            "\n",
            "Run- 1\n",
            "Inference Time:  0.0014089105367660522\n",
            "Testing Accuracy:  97.31\n",
            "\n",
            "Run- 2\n",
            "Inference Time:  0.0013936184644699097\n",
            "Testing Accuracy:  97.31\n",
            "\n",
            "Run- 3\n",
            "Inference Time:  0.0016366063117980957\n",
            "Testing Accuracy:  97.31\n",
            "\n",
            "Run- 4\n",
            "Inference Time:  0.001569526243209839\n",
            "Testing Accuracy:  97.31\n",
            "\n",
            "Run- 5\n",
            "Inference Time:  0.0013838932514190674\n",
            "Testing Accuracy:  97.31\n",
            "\n",
            "\n",
            "Average Accuracy: 97.31\n",
            "Average Inference Time: 0.0014785109615325929\n",
            "Std Inference Time: 0.00010419346191264418\n"
          ]
        }
      ],
      "source": [
        "# Batch Size 1 experiments\n",
        "all_accuracies_qint8_1, all_inference_qint8_1 = [], []\n",
        "for i in range(5):\n",
        "    print(\"\\nRun-\", (i + 1))\n",
        "    baselineAcc, baselineInf = testLoop(inputModel = static_quantized_model_int8, dataloader = test_loader_1, batch_size = 1)\n",
        "\n",
        "    all_accuracies_qint8_1.append(baselineAcc)\n",
        "    all_inference_qint8_1.append(baselineInf)\n",
        "\n",
        "    print(\"Inference Time: \", baselineInf)\n",
        "    print(\"Testing Accuracy: \", baselineAcc)\n",
        "\n",
        "print(\"\\n\\nAverage Accuracy: {}\".format(np.array(all_accuracies_qint8_1).mean()))\n",
        "print(\"Average Inference Time: {}\".format(np.array(all_inference_qint8_1).mean()))\n",
        "print(\"Std Inference Time: {}\".format(np.array(all_inference_qint8_1).std ()))\n",
        "\n",
        "del all_accuracies_qint8_1, all_inference_qint8_1"
      ]
    },
    {
      "cell_type": "markdown",
      "metadata": {
        "id": "MsCQgtAhy29j"
      },
      "source": [
        "### Batch Size 64"
      ]
    },
    {
      "cell_type": "code",
      "execution_count": 18,
      "metadata": {
        "colab": {
          "base_uri": "https://localhost:8080/"
        },
        "id": "XgsMDy_0y29j",
        "outputId": "1d8b39dd-999e-42e1-f1e2-492b7218b0f3"
      },
      "outputs": [
        {
          "output_type": "stream",
          "name": "stdout",
          "text": [
            "\n",
            "Run- 1\n",
            "Inference Time:  0.0002102187721972253\n",
            "Testing Accuracy:  97.31\n",
            "\n",
            "Run- 2\n",
            "Inference Time:  0.00034498812476540825\n",
            "Testing Accuracy:  97.31\n",
            "\n",
            "Run- 3\n",
            "Inference Time:  0.00020422470892310902\n",
            "Testing Accuracy:  97.31\n",
            "\n",
            "Run- 4\n",
            "Inference Time:  0.0002038094458306671\n",
            "Testing Accuracy:  97.31\n",
            "\n",
            "Run- 5\n",
            "Inference Time:  0.00020741837419522037\n",
            "Testing Accuracy:  97.31\n",
            "\n",
            "\n",
            "Average Accuracy: 97.31\n",
            "Average Inference Time: 0.000234131885182326\n",
            "Std Inference Time: 5.547692135732306e-05\n"
          ]
        }
      ],
      "source": [
        "# Batch Size 64 experiments\n",
        "all_accuracies_qint8_64, all_inference_qint8_64 = [], []\n",
        "for i in range(5):\n",
        "    print(\"\\nRun-\", (i + 1))\n",
        "    baselineAcc, baselineInf = testLoop(inputModel = static_quantized_model_int8, dataloader = test_loader_64, batch_size = 64)\n",
        "\n",
        "    all_accuracies_qint8_64.append(baselineAcc)\n",
        "    all_inference_qint8_64.append(baselineInf)\n",
        "\n",
        "    print(\"Inference Time: \", baselineInf)\n",
        "    print(\"Testing Accuracy: \", baselineAcc)\n",
        "\n",
        "print(\"\\n\\nAverage Accuracy: {}\".format(np.array(all_accuracies_qint8_64).mean()))\n",
        "print(\"Average Inference Time: {}\".format(np.array(all_inference_qint8_64).mean()))\n",
        "print(\"Std Inference Time: {}\".format(np.array(all_inference_qint8_64).std ()))\n",
        "\n",
        "del all_accuracies_qint8_64, all_inference_qint8_64"
      ]
    },
    {
      "cell_type": "code",
      "source": [],
      "metadata": {
        "id": "2J3a7p7D0A1I"
      },
      "execution_count": null,
      "outputs": []
    }
  ],
  "metadata": {
    "kernelspec": {
      "display_name": "Python 3",
      "language": "python",
      "name": "python3"
    },
    "language_info": {
      "codemirror_mode": {
        "name": "ipython",
        "version": 3
      },
      "file_extension": ".py",
      "mimetype": "text/x-python",
      "name": "python",
      "nbconvert_exporter": "python",
      "pygments_lexer": "ipython3",
      "version": "3.11.6"
    },
    "orig_nbformat": 4,
    "colab": {
      "provenance": []
    }
  },
  "nbformat": 4,
  "nbformat_minor": 0
}